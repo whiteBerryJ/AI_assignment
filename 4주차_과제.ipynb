{
  "nbformat": 4,
  "nbformat_minor": 0,
  "metadata": {
    "colab": {
      "name": "4주차 과제.ipynb",
      "provenance": [],
      "collapsed_sections": [],
      "include_colab_link": true
    },
    "kernelspec": {
      "name": "python3",
      "display_name": "Python 3"
    }
  },
  "cells": [
    {
      "cell_type": "markdown",
      "metadata": {
        "id": "view-in-github",
        "colab_type": "text"
      },
      "source": [
        "<a href=\"https://colab.research.google.com/github/whiteBerryJ/AI_assignment/blob/master/4%EC%A3%BC%EC%B0%A8_%EA%B3%BC%EC%A0%9C.ipynb\" target=\"_parent\"><img src=\"https://colab.research.google.com/assets/colab-badge.svg\" alt=\"Open In Colab\"/></a>"
      ]
    },
    {
      "cell_type": "markdown",
      "metadata": {
        "id": "wxkL6PjwsI6L",
        "colab_type": "text"
      },
      "source": [
        "# 4주차 과제\n",
        "- 용어 정리\n",
        "- 딥러닝 강의 클론 코딩\n",
        "- 딥러닝 순전파 & 역전파 계산"
      ]
    },
    {
      "cell_type": "markdown",
      "metadata": {
        "id": "ixEtDe6_uGgI",
        "colab_type": "text"
      },
      "source": [
        "## 1. 용어 정리\n",
        "\n",
        "다음 제시된 단어의 정의(설명)를 정리하여 작성 하세요.\n",
        "\n",
        "* 2문장 이상 작성 해 주세요. \n",
        "* 주제(단어)와 크게 벗어나지만 않는다면 정답처리 됩니다.\n",
        "* 강의 뿐 아니라 기타 레퍼런스를 참고하여 작성하셔도 됩니다. (기타 레퍼런스를 참고하신 경우, 해당 레퍼런스를 정리하여 하단에 작성해 주세요.)\n"
      ]
    },
    {
      "cell_type": "markdown",
      "metadata": {
        "id": "0lfwat8eurKZ",
        "colab_type": "text"
      },
      "source": [
        "__(예시)__\n",
        "### 심층 신경망\n",
        ": 입력층과 출력층 사이에 여러 개의 은닉층들로 이뤄진 인공신경망이다. 심층 신경망은 일반적으로 인공신경망과 마찬가지로 복잡한 비선형 관계들을 모델링 할 수 있다. 신층신경망의 목적은 분류 및 수치예측을 하기 위함이고 이미지 트레이닝이나 문자인식과 같은 분야에서 매우 유용하게 쓰이고 있다."
      ]
    },
    {
      "cell_type": "markdown",
      "metadata": {
        "id": "Y8YJNKG_v65A",
        "colab_type": "text"
      },
      "source": [
        "### MCP 뉴런\n",
        ": 1943년 워런 맥컬록(Warren McCulloch)과 월터 피츠(Walter Pitts)는 처음으로 간소화 된 뇌의 뉴런 개념을 발표하였다. 이를 MCP뉴런이라 한다. 뇌의 신경세포는 서로 연결되어 있는데, 수상돌기-세포체-축삭돌기의 형태로 뉴런이 구성되어있고 수상돌기가 시냅스로부터 다른 뉴런들의 여러 신호가 도착하면 세포체에 그 신호들이 합쳐진다. 이 합쳐진 신호가 임계값(threshold)를 넘어가면 출력신호가 생성되고 이것은 축삭 돌기를 통해 시냅스로 전달, 다른 뉴런으로 전파된다.<br>\n",
        "\n",
        "(참고자료: https://thebook.io/007022/ch02/01/, '더북 : 머신러닝 교과서 with 파이썬, 사이킷런, 텐서플로:2.1 인공 뉴런: 초기 머신 러닝의 간단한 역사', 2020.06.13)\n",
        "\n",
        "### 퍼셉트론\n",
        ":MCP뉴런의 논리게이트를 모델로 구현한 것이다. 퍼셉트론은 입력층과 가중치 임계값을 포함한 활성함수와 출력값으로 구성되어있으며, 입력값은 활성함수로 입력된다. 이 입력은 threshold 값보다 크면 1 아니면 0으로 반환하고 이를 출력값으로 갖는다. 입력은 가중치와 편향에 의해 각각 다르게 평가되고 학습은 입력에 따른 출력을 잘 예측하는 가중치와 편향을 구하는 것이다.<br>\n",
        "\n",
        "(참고자료:https://yamerong.tistory.com/43, ' 데이터 분석창고: 01.인공뉴런과 퍼셉트론의 원리 첫번째_딥러닝의 조상 퍼셉트론의 이해', 2020.06.13)\n",
        "\n",
        "### 역전파\n",
        ": 역전파란, 인공신경망을 학습시키기 위한 방법으로, 오차가 본래 진행방향과 반대방향으로 전파된다. 역전파 알고리즘은 출력값과 지도데이터 간에 생기는 '오차'를 이용해 출력층에서 입력층 쪽으로 가중치를 조정하는 방법이다.여기에는 경사하강법이 적용되는데, 이를 통해 입력값 각각의 손실함수를 편미분하여 합이 0에 가까운지 확인하며 가중치를 조정하고 오차가 최소가 되도록 한다. 이 방법은 기울기 소멸 문제가 발생하게 되는데, ReLU함수의 사용으로 어느정도 해결 가능하다.<br>\n",
        "\n",
        "### 강화학습\n",
        ": 강화학습이란 보상을 최대화하는 의사 결정전략으로, 순차적인 행동들을 알아가는 방법이다. 강화학습에서 의사결정에 필요한 요소들로는 에이전트(Agent),환경(Environment),상태(Statement),행동(Action),관측(Observation),보상함수(Reward function)이 있다. 에이전트는 의사결정 주체이고, 환경은 에이전트의 의사결정을 반영하고 에이전트에게 반영된 정보를 전달하는 기능을 한다. 상태는 의사결정에 도움을 주는 관측값, 보상, 행동을 가공한 데이터이며 행동은 의사결정을 통해 취할 수 있는 행동이다. 관측은 이미지나 수치적 데이터로 이루어진 관측정보이고 보상함수는 에이전트가 현재상태에서 현재 행동을 취해서 얻을 수 있는 보상의 기댓값을 말한다.<br>\n",
        "에이전트는  한 번의 학습 사이클인 에피소드를 진행하고, 이를 통해 얻은 보상을 참고하여 다음 에피소드를 보상이 커지는 방향으로 의사결정을 진행한다. 이 때 감가율을 적용하여 현재 상태에서의 이득을 계산할 수 있다.<br>\n",
        "\n",
        "### 과적합\n",
        ": 과적합은 머신러닝에서 학습데이터를 과도하게 학습하는 것을 뜻한다. 학습 데이터는 실험 데이터의 부분집합이지만 학습데이터에만 과도하게 학습하게 되면 실제 데이터를 적용했을 때 과적합 모델은 학습을 덜 한 모델보다 오히려 오차가 증가하게 된다. 이는 훈련 데이터 사이의 값 즉, 실제 데이터에 대해서는 과도한 학습으로 인해 모델과 데이터 간 거리가 멀어지기 때문이다. <br>\n",
        "\n",
        "### 차원의 저주\n",
        ": 고정된 크기의 훈련 데이터셋 차원이 증가할수록 해당 공간의 부피가 기하급수적으로 증가하기 때무에 동일한 수의 데이터 밀도는 차원이 증가할수록 희박해진다. 따라서 차원이 증가할수록 데이터의 분포 분석 또는 모델추정에 필요한 샘플 데이터의 개수가 기하급수적으로 증가하게 되는데 이러한 어려움을 표현한 용어이다. <br>\n",
        "\n",
        "(참고자료: https://darkpgmr.tistory.com/145, '다크프로그래머 :: 차원의 문제', 2020.06.13)\n",
        " \n"
      ]
    },
    {
      "cell_type": "markdown",
      "metadata": {
        "id": "d-zfFXLCy6jD",
        "colab_type": "text"
      },
      "source": [
        "## 2. 딥러닝 강의 클론 코딩\n",
        "\n",
        "####__퍼셉트론 구조 구현하기__ \n",
        "딥러닝 강의(__딥러닝 원리[1] 3:15 ~ 5:15 부분__)를 보고 코드를 따라 치며 출력 결과를 만드세요.\n",
        " \n",
        "\n",
        "* 하나의 코드셀에 해당 코드를 한번에 다 적어서 실행해주세요 (__그렇게 하지 않을 경우, 아래 이미지와 같은 출력값이 나오지 않을 수 있습니다__)\n",
        "\n",
        "*__주의!__ 실제로 코딩해서 출력해보면 강의에 나온 출력 결과와 다르게 나옵니다!!\n"
      ]
    },
    {
      "cell_type": "markdown",
      "metadata": {
        "id": "wcc5mzI9oZ7r",
        "colab_type": "text"
      },
      "source": [
        "![대체 텍스트](https://www.notion.so/image/https%3A%2F%2Fs3-us-west-2.amazonaws.com%2Fsecure.notion-static.com%2F0cceeed0-0235-4b0f-af88-0b8c377d5b4b%2F_2020-06-09__9.35.23.png?table=block&id=88fd8912-9356-49a4-9fda-a1a63fe96ea9&width=2870&cache=v2)"
      ]
    },
    {
      "cell_type": "code",
      "metadata": {
        "id": "JnxjkHy-uIq8",
        "colab_type": "code",
        "colab": {
          "base_uri": "https://localhost:8080/",
          "height": 212
        },
        "outputId": "1a9e0196-ab66-4154-c3fa-ee5b5a84f291"
      },
      "source": [
        "import tensorflow as tf\n",
        "tf.compat.v1.set_random_seed(2020)\n",
        "x = 1\n",
        "y = 0\n",
        "w = tf.random.normal([1], 0, 1)\n",
        "\n",
        "import math\n",
        "def sigmoid(x):\n",
        "  return 1/(1+ math.exp(-x))\n",
        "\n",
        "output = sigmoid( x*w )\n",
        "print(output)\n",
        "\n",
        "for i in range(1000):\n",
        "  output = sigmoid(x*w)\n",
        "  error = y - output\n",
        "  w = w + x * 0.1 * error\n",
        "\n",
        "  if i % 100 == 99:\n",
        "    print(\"학습 횟수 : \", i, \"Error: \", error, \"예측 결과: \", output)"
      ],
      "execution_count": 2,
      "outputs": [
        {
          "output_type": "stream",
          "text": [
            "0.47477188589261\n",
            "학습 횟수 :  99 Error:  -0.10010598284299604 예측 결과:  0.10010598284299604\n",
            "학습 횟수 :  199 Error:  -0.05178399422833116 예측 결과:  0.05178399422833116\n",
            "학습 횟수 :  299 Error:  -0.034590451977903586 예측 결과:  0.034590451977903586\n",
            "학습 횟수 :  399 Error:  -0.02588962752851373 예측 결과:  0.02588962752851373\n",
            "학습 횟수 :  499 Error:  -0.020658699939863617 예측 결과:  0.020658699939863617\n",
            "학습 횟수 :  599 Error:  -0.017174253993457355 예측 결과:  0.017174253993457355\n",
            "학습 횟수 :  699 Error:  -0.014689506449480992 예측 결과:  0.014689506449480992\n",
            "학습 횟수 :  799 Error:  -0.012829497265431342 예측 결과:  0.012829497265431342\n",
            "학습 횟수 :  899 Error:  -0.011385568271837804 예측 결과:  0.011385568271837804\n",
            "학습 횟수 :  999 Error:  -0.010232493309882492 예측 결과:  0.010232493309882492\n"
          ],
          "name": "stdout"
        }
      ]
    },
    {
      "cell_type": "markdown",
      "metadata": {
        "id": "kr0HVRk8fOom",
        "colab_type": "text"
      },
      "source": [
        "## 3. 딥러닝 순전파 & 역전파 계산\n",
        "\n",
        "딥러닝 강의(__딥러닝 원리[2] 0:55 ~ 4:32 부분__)에 나오는 순전파 & 역전파 계산에 대한 문제 입니다.\n",
        "\n",
        "해당 영상과 다음 이미지를 참고하여 다음 2가지 물음에 답하세요.\n",
        "\n",
        "\n",
        "(1) 학습률이 0.2 일 경우 출력층의 노드값\n",
        "\n",
        "(2) 학습률이 0.1과 0.2 중 기대출력값이 지도데이터 \"3\"과 더 가까운 학습률은?"
      ]
    },
    {
      "cell_type": "markdown",
      "metadata": {
        "id": "CpwPFWhOUzww",
        "colab_type": "text"
      },
      "source": [
        "![대체 텍스트](https://www.notion.so/image/https%3A%2F%2Fs3-us-west-2.amazonaws.com%2Fsecure.notion-static.com%2Ff54dfd45-92ec-44ae-9616-6949d2484a45%2F_2020-06-10__5.22.03.png?table=block&id=ee05da89-3ceb-4ad9-a2d3-c9f68d24d1d9&width=3580&cache=v2)"
      ]
    },
    {
      "cell_type": "markdown",
      "metadata": {
        "id": "B2OVY7w5U3CI",
        "colab_type": "text"
      },
      "source": [
        "## (1) 학습률이 0.2 일 경우 출력층의 노드값 : 1.6 \n",
        "## (2) 학습률이 0.1과 0.2 중 기대출력값이 지도데이터 \"3\"과 더 가까운 학습률은? : 0.1"
      ]
    }
  ]
}